{
 "cells": [
  {
   "cell_type": "markdown",
   "id": "c2f7d879-e35f-4ef8-98e2-0b7c7979ebbd",
   "metadata": {},
   "source": [
    "# LAB-6.2  K-MEAN"
   ]
  },
  {
   "cell_type": "code",
   "execution_count": 1,
   "id": "9583bb61-65d0-4296-a514-176a2f42af91",
   "metadata": {},
   "outputs": [],
   "source": [
    "import pandas as pd\n",
    "import numpy as np\n",
    "import matplotlib.pyplot as plt\n",
    "import seaborn as sns\n",
    "from sklearn.preprocessing import StandardScaler\n",
    "from sklearn.cluster import KMeans\n",
    "from sklearn.decomposition import PCA"
   ]
  },
  {
   "cell_type": "code",
   "execution_count": 2,
   "id": "7e026c32-bc6b-40ff-907e-9356f6b5cddb",
   "metadata": {},
   "outputs": [
    {
     "name": "stdout",
     "output_type": "stream",
     "text": [
      "         Date     Product  Revenue  Sales  Customer_Age       City  Profit  \\\n",
      "0  2024-01-01      Laptop    50000     10            25      Delhi    8000   \n",
      "1  2024-01-02      Mobile    30000     20            32     Mumbai    6000   \n",
      "2  2024-01-03      Tablet    20000     15            28  Bengaluru    5000   \n",
      "3  2024-01-04  Headphones    10000     25            22    Chennai    2000   \n",
      "4  2024-01-05  Smartwatch    15000     18            30    Kolkata    3500   \n",
      "\n",
      "   Rating  \n",
      "0     4.5  \n",
      "1     4.3  \n",
      "2     4.1  \n",
      "3     4.0  \n",
      "4     4.2  \n",
      "<class 'pandas.core.frame.DataFrame'>\n",
      "RangeIndex: 5 entries, 0 to 4\n",
      "Data columns (total 8 columns):\n",
      " #   Column        Non-Null Count  Dtype  \n",
      "---  ------        --------------  -----  \n",
      " 0   Date          5 non-null      object \n",
      " 1   Product       5 non-null      object \n",
      " 2   Revenue       5 non-null      int64  \n",
      " 3   Sales         5 non-null      int64  \n",
      " 4   Customer_Age  5 non-null      int64  \n",
      " 5   City          5 non-null      object \n",
      " 6   Profit        5 non-null      int64  \n",
      " 7   Rating        5 non-null      float64\n",
      "dtypes: float64(1), int64(4), object(3)\n",
      "memory usage: 452.0+ bytes\n",
      "None\n",
      "            Revenue     Sales  Customer_Age       Profit    Rating\n",
      "count      5.000000   5.00000      5.000000     5.000000  5.000000\n",
      "mean   25000.000000  17.60000     27.400000  4900.000000  4.220000\n",
      "std    15811.388301   5.59464      3.974921  2302.172887  0.192354\n",
      "min    10000.000000  10.00000     22.000000  2000.000000  4.000000\n",
      "25%    15000.000000  15.00000     25.000000  3500.000000  4.100000\n",
      "50%    20000.000000  18.00000     28.000000  5000.000000  4.200000\n",
      "75%    30000.000000  20.00000     30.000000  6000.000000  4.300000\n",
      "max    50000.000000  25.00000     32.000000  8000.000000  4.500000\n"
     ]
    }
   ],
   "source": [
    "df = pd.read_csv(r\"C:\\Users\\Admin\\Downloads\\\\sales_data Sonam.csv\")  \n",
    "print(df.head())  \n",
    "print(df.info())  \n",
    "print(df.describe()) "
   ]
  },
  {
   "cell_type": "code",
   "execution_count": 3,
   "id": "6bf5a742-3f87-436a-ba86-4cc312ac9213",
   "metadata": {},
   "outputs": [
    {
     "name": "stdout",
     "output_type": "stream",
     "text": [
      "['Date', 'Product', 'Revenue', 'Sales', 'Customer_Age', 'City', 'Profit', 'Rating']\n"
     ]
    }
   ],
   "source": [
    "print(df.columns.tolist())  # Show exact column names\n",
    "df.columns = df.columns.str.strip()\n",
    "\n",
    "if \"City\" in df.columns:\n",
    "    df = pd.get_dummies(df, columns=[\"City\"])\n",
    "else:\n",
    "    print(\"Column 'City' not found! Check dataframe structure.\")\n",
    "\n",
    "\n"
   ]
  },
  {
   "cell_type": "code",
   "execution_count": 4,
   "id": "e1808f92-f11a-4185-a3c2-ae877b1ab6c8",
   "metadata": {},
   "outputs": [],
   "source": [
    "features = [\"Customer_Age\", \"Revenue\", \"Profit\"] + [col for col in df.columns if col.startswith(\"City_\")]\n",
    "X = df[features]\n",
    "scaler = StandardScaler()\n",
    "X_scaled = scaler.fit_transform(X)\n",
    "\n",
    " "
   ]
  },
  {
   "cell_type": "markdown",
   "id": "06c92d00-b5dc-4725-8199-2a72387d4f32",
   "metadata": {},
   "source": [
    "# DATA PREPROCESSING"
   ]
  },
  {
   "cell_type": "markdown",
   "id": "7b28d113-8216-472d-876c-e1fc8ff034e6",
   "metadata": {},
   "source": [
    "DATA PREPROCESSING"
   ]
  },
  {
   "cell_type": "code",
   "execution_count": 7,
   "id": "b0c78c4f-f687-40aa-bb3b-bf01d7c0e8bd",
   "metadata": {},
   "outputs": [
    {
     "name": "stdout",
     "output_type": "stream",
     "text": [
      "Date              0\n",
      "Product           0\n",
      "Revenue           0\n",
      "Sales             0\n",
      "Customer_Age      0\n",
      "Profit            0\n",
      "Rating            0\n",
      "City_Bengaluru    0\n",
      "City_Chennai      0\n",
      "City_Delhi        0\n",
      "City_Kolkata      0\n",
      "City_Mumbai       0\n",
      "dtype: int64\n"
     ]
    }
   ],
   "source": [
    "print(df.isnull().sum())\n",
    "\n",
    "# Selecting relevant features for clustering\n",
    "features = [\"Customer_Age\", \"Revenue\", \"Profit\"]\n",
    "X = df[features]\n",
    "\n",
    "# Standardizing the data\n",
    "scaler = StandardScaler()\n",
    "X_scaled = scaler.fit_transform(X)"
   ]
  },
  {
   "cell_type": "code",
   "execution_count": 13,
   "id": "850c44df-07a6-488c-8fb8-86742c6365fe",
   "metadata": {},
   "outputs": [
    {
     "name": "stderr",
     "output_type": "stream",
     "text": [
      "C:\\ProgramData\\anaconda3\\Lib\\site-packages\\sklearn\\cluster\\_kmeans.py:1429: UserWarning: KMeans is known to have a memory leak on Windows with MKL, when there are less chunks than available threads. You can avoid it by setting the environment variable OMP_NUM_THREADS=1.\n",
      "  warnings.warn(\n",
      "C:\\ProgramData\\anaconda3\\Lib\\site-packages\\sklearn\\cluster\\_kmeans.py:1429: UserWarning: KMeans is known to have a memory leak on Windows with MKL, when there are less chunks than available threads. You can avoid it by setting the environment variable OMP_NUM_THREADS=1.\n",
      "  warnings.warn(\n",
      "C:\\ProgramData\\anaconda3\\Lib\\site-packages\\sklearn\\cluster\\_kmeans.py:1429: UserWarning: KMeans is known to have a memory leak on Windows with MKL, when there are less chunks than available threads. You can avoid it by setting the environment variable OMP_NUM_THREADS=1.\n",
      "  warnings.warn(\n",
      "C:\\ProgramData\\anaconda3\\Lib\\site-packages\\sklearn\\cluster\\_kmeans.py:1429: UserWarning: KMeans is known to have a memory leak on Windows with MKL, when there are less chunks than available threads. You can avoid it by setting the environment variable OMP_NUM_THREADS=1.\n",
      "  warnings.warn(\n",
      "C:\\ProgramData\\anaconda3\\Lib\\site-packages\\sklearn\\cluster\\_kmeans.py:1429: UserWarning: KMeans is known to have a memory leak on Windows with MKL, when there are less chunks than available threads. You can avoid it by setting the environment variable OMP_NUM_THREADS=1.\n",
      "  warnings.warn(\n"
     ]
    },
    {
     "data": {
      "image/png": "[encoded data removed]",
      "text/plain": [
       "<Figure size 640x480 with 1 Axes>"
      ]
     },
     "metadata": {},
     "output_type": "display_data"
    }
   ],
   "source": [
    "wcss = []  # Within-cluster sum of squares\n",
    "for i in range(1, min(6, len(X_scaled) + 1)):  # Ensure n_clusters ≤ number of samples\n",
    "    kmeans = KMeans(n_clusters=i, init='k-means++', random_state=42, n_init=10)\n",
    "    kmeans.fit(X_scaled)\n",
    "    wcss.append(kmeans.inertia_)\n",
    "\n",
    "# Plot Elbow Method\n",
    "plt.plot(range(1, min(6, len(X_scaled) + 1)), wcss, marker='o')\n",
    "plt.xlabel('Number of Clusters')\n",
    "plt.ylabel('WCSS')\n",
    "plt.title('Elbow Method for Optimal K')\n",
    "plt.show()\n"
   ]
  },
  {
   "cell_type": "code",
   "execution_count": 15,
   "id": "731f1db8-1d23-44fd-97fe-5cb3f31fe724",
   "metadata": {},
   "outputs": [],
   "source": [
    "import os\n",
    "os.environ[\"OMP_NUM_THREADS\"] = \"1\"\n"
   ]
  },
  {
   "cell_type": "code",
   "execution_count": 17,
   "id": "e80d02c3-b3c0-4634-a24a-5e20f7ca6c68",
   "metadata": {},
   "outputs": [
    {
     "name": "stderr",
     "output_type": "stream",
     "text": [
      "C:\\ProgramData\\anaconda3\\Lib\\site-packages\\sklearn\\cluster\\_kmeans.py:1429: UserWarning: KMeans is known to have a memory leak on Windows with MKL, when there are less chunks than available threads. You can avoid it by setting the environment variable OMP_NUM_THREADS=1.\n",
      "  warnings.warn(\n"
     ]
    }
   ],
   "source": [
    "kmeans = KMeans(n_clusters=3, init='k-means++', random_state=42)\n",
    "df['Cluster'] = kmeans.fit_predict(X_scaled)"
   ]
  },
  {
   "cell_type": "code",
   "execution_count": 19,
   "id": "b0d55202-5a0d-48b1-8639-52cb6de2ca37",
   "metadata": {},
   "outputs": [
    {
     "data": {
      "image/png": "[encoded data removed]",
      "text/plain": [
       "<Figure size 800x600 with 1 Axes>"
      ]
     },
     "metadata": {},
     "output_type": "display_data"
    }
   ],
   "source": [
    "pca = PCA(n_components=2)\n",
    "X_pca = pca.fit_transform(X_scaled)\n",
    "df[\"PCA1\"] = X_pca[:, 0]\n",
    "df[\"PCA2\"] = X_pca[:, 1]\n",
    "\n",
    "# Scatter plot of clusters\n",
    "plt.figure(figsize=(8, 6))\n",
    "sns.scatterplot(x=df[\"PCA1\"], y=df[\"PCA2\"], hue=df[\"Cluster\"], palette='viridis')\n",
    "plt.xlabel(\"PCA1\")\n",
    "plt.ylabel(\"PCA2\")\n",
    "plt.title(\"Customer Segments Based on Spending Patterns\")\n",
    "plt.legend()\n",
    "plt.show()"
   ]
  },
  {
   "cell_type": "code",
   "execution_count": null,
   "id": "1d432810-434a-4ea9-aa14-34b75e9586c9",
   "metadata": {},
   "outputs": [],
   "source": []
  },
  {
   "cell_type": "code",
   "execution_count": null,
   "id": "6473c9b3-1e27-4ae3-84eb-2ea853d625ae",
   "metadata": {},
   "outputs": [],
   "source": []
  }
 ],
 "metadata": {
  "kernelspec": {
   "display_name": "Python [conda env:base] *",
   "language": "python",
   "name": "conda-base-py"
  },
  "language_info": {
   "codemirror_mode": {
    "name": "ipython",
    "version": 3
   },
   "file_extension": ".py",
   "mimetype": "text/x-python",
   "name": "python",
   "nbconvert_exporter": "python",
   "pygments_lexer": "ipython3",
   "version": "3.12.7"
  }
 },
 "nbformat": 4,
 "nbformat_minor": 5
}
