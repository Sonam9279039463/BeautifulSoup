{
 "cells": [
  {
   "cell_type": "markdown",
   "id": "42a3f8a3",
   "metadata": {},
   "source": [
    "# Create a web scraping tool using BeautifulSoup to extract job listings from a job board website. The tool should scrape information such as job titles, companies, locations, and descriptions, then save it in a  file."
   ]
  },
  {
   "cell_type": "markdown",
   "id": "0ba6361a",
   "metadata": {},
   "source": [
    "Requests— It will help us make a GET request to the host website.\n",
    "BeautifulSoup — Using this library we will be able to parse crucial data."
   ]
  },
  {
   "cell_type": "code",
   "execution_count": 1,
   "id": "9418fb0e",
   "metadata": {},
   "outputs": [
    {
     "name": "stdout",
     "output_type": "stream",
     "text": [
      "Requirement already satisfied: requests in c:\\users\\admin\\appdata\\local\\programs\\python\\python312\\lib\\site-packages (2.32.3)\n",
      "Requirement already satisfied: charset-normalizer<4,>=2 in c:\\users\\admin\\appdata\\local\\programs\\python\\python312\\lib\\site-packages (from requests) (3.4.0)\n",
      "Requirement already satisfied: idna<4,>=2.5 in c:\\users\\admin\\appdata\\local\\programs\\python\\python312\\lib\\site-packages (from requests) (3.10)\n",
      "Requirement already satisfied: urllib3<3,>=1.21.1 in c:\\users\\admin\\appdata\\local\\programs\\python\\python312\\lib\\site-packages (from requests) (2.2.3)\n",
      "Requirement already satisfied: certifi>=2017.4.17 in c:\\users\\admin\\appdata\\local\\programs\\python\\python312\\lib\\site-packages (from requests) (2024.8.30)\n",
      "Requirement already satisfied: beautifulsoup4 in c:\\users\\admin\\appdata\\local\\programs\\python\\python312\\lib\\site-packages (4.12.3)\n",
      "Requirement already satisfied: soupsieve>1.2 in c:\\users\\admin\\appdata\\local\\programs\\python\\python312\\lib\\site-packages (from beautifulsoup4) (2.6)\n"
     ]
    }
   ],
   "source": [
    "!pip install requests\n",
    "!pip install beautifulsoup4"
   ]
  },
  {
   "cell_type": "code",
   "execution_count": 2,
   "id": "8499814b",
   "metadata": {},
   "outputs": [],
   "source": [
    "import requests\n",
    "from bs4 import BeautifulSoup"
   ]
  },
  {
   "cell_type": "code",
   "execution_count": 3,
   "id": "7c67edac",
   "metadata": {},
   "outputs": [],
   "source": [
    "import requests\n",
    "from bs4 import BeautifulSoup\n",
    "import math\n",
    "\n",
    "\n",
    "target_url='https://www.linkedin.com/jobs-guest/jobs/api/seeMoreJobPostings/search?keywords=Python%20%28Programming%20Language%29&location=Las%20Vegas%2C%20Nevada%2C%20United%20States&geoId=100293800&currentJobId=3415227738&start={}'\n",
    "number_of_loops=math.ceil(117/25)"
   ]
  },
  {
   "cell_type": "code",
   "execution_count": 4,
   "id": "73f7a99b",
   "metadata": {},
   "outputs": [
    {
     "name": "stdout",
     "output_type": "stream",
     "text": [
      "['4045413423', '4045410798', '4045415011', '4045409903', '4045409907', '4045407905', '4045418174', '4045414536', '4045408727', '4045412628', '3991921793', '3982531394', '3916267792', '3921163358', '4056587607', '4001838729', '3852655632', '4014110948', '4030198422', '4067423878']\n"
     ]
    }
   ],
   "source": [
    "import requests\n",
    "from bs4 import BeautifulSoup\n",
    "import math\n",
    "\n",
    "target_url = 'https://www.linkedin.com/jobs-guest/jobs/api/seeMoreJobPostings/search?keywords=Python%20%28Programming%20Language%29&location=Las%20Vegas%2C%20Nevada%2C%20United%20States&geoId=100293800&currentJobId=3415227738&start={}'\n",
    "\n",
    "# Initialize an empty list to store job IDs\n",
    "l = []\n",
    "\n",
    "for i in range(0, math.ceil(117 / 25)):\n",
    "    res = requests.get(target_url.format(i))\n",
    "    soup = BeautifulSoup(res.text, 'html.parser')\n",
    "\n",
    "    alljobs_on_this_page = soup.find_all(\"li\")\n",
    "\n",
    "    for x in range(0, len(alljobs_on_this_page)):\n",
    "        jobid = alljobs_on_this_page[x].find(\"div\", {\"class\": \"base-card\"}).get('data-entity-urn').split(\":\")[3]\n",
    "        l.append(jobid)\n",
    "\n",
    "print(l)  # Output the list of job IDs\n"
   ]
  },
  {
   "cell_type": "markdown",
   "id": "eb82d997",
   "metadata": {},
   "source": [
    "we have declared a target URL where jobs are present.\n",
    "Then we are running a for loop until the last page.\n",
    "Then we made a GET request to the page.\n",
    "We are using BS4 for creating a parse tree constructor.\n",
    "Using .find_all() method we are finding all the li tags as all the jobs are stored inside li tags.\n",
    "Then we started another loop which will run until the last job is present on any page.\n",
    "We are finding the location of the job ID.\n",
    "We have pushed all the IDs in an array."
   ]
  },
  {
   "cell_type": "code",
   "execution_count": 6,
   "id": "a28d238e-3279-4017-a9dd-34395d94210c",
   "metadata": {},
   "outputs": [
    {
     "name": "stdout",
     "output_type": "stream",
     "text": [
      "[{'company': None, 'job-title': None, 'level': None}, {'company': None, 'job-title': None, 'level': None}, {'company': None, 'job-title': None, 'level': None}]\n"
     ]
    }
   ],
   "source": [
    "import requests\n",
    "from bs4 import BeautifulSoup\n",
    "\n",
    "# List of job IDs (example placeholder list, replace with actual IDs)\n",
    "l = ['job_id_1', 'job_id_2', 'job_id_3']\n",
    "k = []  # List to store job data\n",
    "\n",
    "# Loop over the job IDs\n",
    "for j in range(0, len(l)):\n",
    "    o = {}  # Initialize 'o' (dictionary for each job) inside the loop\n",
    "\n",
    "    # Request the job details page\n",
    "    target_url = 'https://www.linkedin.com/jobs-guest/jobs/api/jobPosting/{}'\n",
    "    resp = requests.get(target_url.format(l[j]))\n",
    "    soup = BeautifulSoup(resp.text, 'html.parser')\n",
    "\n",
    "    try:\n",
    "        # Extract company info (if it exists)\n",
    "        company_tag = soup.find(\"div\", {\"class\": \"top-card-layout__card\"})\n",
    "        if company_tag:\n",
    "            company = company_tag.find(\"a\").find(\"img\").get('alt', None)\n",
    "            o[\"company\"] = company\n",
    "        else:\n",
    "            o[\"company\"] = None\n",
    "    except AttributeError:\n",
    "        o[\"company\"] = None\n",
    "\n",
    "    try:\n",
    "        # Extract job title (if it exists)\n",
    "        job_title_tag = soup.find(\"div\", {\"class\": \"top-card-layout__entity-info\"})\n",
    "        if job_title_tag:\n",
    "            job_title = job_title_tag.find(\"a\").text.strip()\n",
    "            o[\"job-title\"] = job_title\n",
    "        else:\n",
    "            o[\"job-title\"] = None\n",
    "    except AttributeError:\n",
    "        o[\"job-title\"] = None\n",
    "\n",
    "    try:\n",
    "        # Extract seniority level (if it exists)\n",
    "        level_tag = soup.find(\"ul\", {\"class\": \"description__job-criteria-list\"})\n",
    "        if level_tag:\n",
    "            level = level_tag.find(\"li\").text.replace(\"Seniority level\", \"\").strip()\n",
    "            o[\"level\"] = level\n",
    "        else:\n",
    "            o[\"level\"] = None\n",
    "    except AttributeError:\n",
    "        o[\"level\"] = None\n",
    "\n",
    "    # Append the job data to the list\n",
    "    k.append(o)\n",
    "\n",
    "# Print the collected job data\n",
    "print(k)\n"
   ]
  },
  {
   "cell_type": "code",
   "execution_count": 3,
   "id": "401b10bb-cd16-4235-a228-0657a7bca9b1",
   "metadata": {},
   "outputs": [
    {
     "name": "stdout",
     "output_type": "stream",
     "text": [
      "[]\n"
     ]
    }
   ],
   "source": [
    "import requests\n",
    "from bs4 import BeautifulSoup\n",
    "\n",
    "# List of job IDs (example placeholder list, replace with actual IDs)\n",
    "l = ['job_id_1', 'job_id_2', 'job_id_3']\n",
    "k = []  # List to store job data\n",
    "\n",
    "# Loop over the job IDs\n",
    "for j in range(0, len(l)):\n",
    "    o = {}  # Initialize 'o' (dictionary for each job) inside the loop\n",
    "\n",
    "    # Request the job details page\n",
    "    target_url = 'https://www.linkedin.com/jobs-guest/jobs/api/jobPosting/{}'\n",
    "    resp = requests.get(target_url.format(l[j]))\n",
    "    soup = BeautifulSoup(resp.text, 'html.parser')\n",
    "\n",
    "    try:\n",
    "        # Extract job title (if it exists)\n",
    "        job_title_tag = soup.find(\"div\", {\"class\": \"top-card-layout__entity-info\"})\n",
    "        if job_title_tag:\n",
    "            job_title = job_title_tag.find(\"a\").text.strip()\n",
    "\n",
    "            # Filter for Python Developer job titles (case insensitive)\n",
    "            if \"python developer\" in job_title.lower():\n",
    "                o[\"job-title\"] = job_title\n",
    "            else:\n",
    "                o[\"job-title\"] = None\n",
    "        else:\n",
    "            o[\"job-title\"] = None\n",
    "    except AttributeError:\n",
    "        o[\"job-title\"] = None\n",
    "\n",
    "    try:\n",
    "        # Extract company info (if it exists)\n",
    "        company_tag = soup.find(\"div\", {\"class\": \"top-card-layout__card\"})\n",
    "        if company_tag:\n",
    "            company = company_tag.find(\"a\").find(\"img\").get('alt', None)\n",
    "            o[\"company\"] = company\n",
    "        else:\n",
    "            o[\"company\"] = None\n",
    "    except AttributeError:\n",
    "        o[\"company\"] = None\n",
    "\n",
    "    try:\n",
    "        # Extract seniority level (if it exists)\n",
    "        level_tag = soup.find(\"ul\", {\"class\": \"description__job-criteria-list\"})\n",
    "        if level_tag:\n",
    "            level = level_tag.find(\"li\").text.replace(\"Seniority level\", \"\").strip()\n",
    "            o[\"level\"] = level\n",
    "        else:\n",
    "            o[\"level\"] = None\n",
    "    except AttributeError:\n",
    "        o[\"level\"] = None\n",
    "\n",
    "    # Append the job data to the list\n",
    "    if o.get(\"job-title\"):  # Only add to list if job title exists\n",
    "        k.append(o)\n",
    "\n",
    "# Print the collected Python Developer job data\n",
    "print(k)\n"
   ]
  },
  {
   "cell_type": "markdown",
   "id": "2e2f1c8e",
   "metadata": {},
   "source": [
    "We have declared a URL that holds the dedicated Linkedin job URL for any given company.\n",
    "For loop will run for the number of IDs present inside the array l.\n",
    "Then we made a GET request to the Linkedin page.\n",
    "Again created a BS4 parse tree.\n",
    "Then we are using try/except statements to extract all the information.\n",
    "We have pushed object o to array k.\n",
    "Declared object o empty so that it can store data of another URL.\n",
    "In the end, we are printing the array k."
   ]
  },
  {
   "cell_type": "code",
   "execution_count": null,
   "id": "08d195a7",
   "metadata": {},
   "outputs": [],
   "source": [
    "import pandas as pd"
   ]
  },
  {
   "cell_type": "code",
   "execution_count": null,
   "id": "4f7bf9c6",
   "metadata": {},
   "outputs": [],
   "source": [
    "df = pd.DataFrame(k)\n",
    "df.to_csv('linkedinjobs.csv', index=False, encoding='utf-8')"
   ]
  },
  {
   "cell_type": "code",
   "execution_count": 5,
   "id": "f464b0b5",
   "metadata": {},
   "outputs": [
    {
     "name": "stdout",
     "output_type": "stream",
     "text": [
      "10\n",
      "10\n",
      "10\n",
      "10\n",
      "10\n",
      "[{'company': 'SynergisticIT', 'job-title': 'Entry level Python/R Developer', 'level': 'Entry level'}, {'company': 'SynergisticIT', 'job-title': 'Junior/Entry Level Software Developer(Remote)', 'level': 'Entry level'}, {'company': 'SynergisticIT', 'job-title': 'Entry/Junior Level Software Developer - Remote', 'level': 'Entry level'}, {'company': 'SynergisticIT', 'job-title': 'Junior/Entry Software Developer', 'level': 'Entry level'}, {'company': 'SynergisticIT', 'job-title': 'Entry Level Software Developer - Remote', 'level': 'Entry level'}, {'company': 'SynergisticIT', 'job-title': 'Remote Software Developer (Junior)', 'level': 'Entry level'}, {'company': 'SynergisticIT', 'job-title': 'Junior Level Software Engineer (REMOTE)', 'level': 'Entry level'}, {'company': 'SynergisticIT', 'job-title': 'Junior Machine Learning Engineer', 'level': 'Entry level'}, {'company': 'SynergisticIT', 'job-title': 'Entry Level Software Engineer', 'level': 'Entry level'}, {'company': 'SynergisticIT', 'job-title': 'Entry Level Data Scientist', 'level': 'Entry level'}, {'company': 'SynergisticIT', 'job-title': 'Junior/Entry Level Software Developer(Remote)', 'level': 'Entry level'}, {'company': 'SynergisticIT', 'job-title': 'Entry/Junior Level Software Developer - Remote', 'level': 'Entry level'}, {'company': 'SynergisticIT', 'job-title': 'Junior/Entry Software Developer', 'level': 'Entry level'}, {'company': 'SynergisticIT', 'job-title': 'Entry Level Software Developer - Remote', 'level': 'Entry level'}, {'company': 'SynergisticIT', 'job-title': 'Remote Software Developer (Junior)', 'level': 'Entry level'}, {'company': 'SynergisticIT', 'job-title': 'Junior Level Software Engineer (REMOTE)', 'level': 'Entry level'}, {'company': 'SynergisticIT', 'job-title': 'Junior Machine Learning Engineer', 'level': 'Entry level'}, {'company': 'SynergisticIT', 'job-title': 'Entry Level Software Engineer', 'level': 'Entry level'}, {'company': 'SynergisticIT', 'job-title': 'Entry Level Data Scientist', 'level': 'Entry level'}, {'company': 'SynergisticIT', 'job-title': 'JUNIOR SOFTWARE ENGINEER (REMOTE)', 'level': 'Entry level'}, {'company': 'SynergisticIT', 'job-title': 'Entry/Junior Level Software Developer - Remote', 'level': 'Entry level'}, {'company': 'SynergisticIT', 'job-title': 'Junior/Entry Software Developer', 'level': 'Entry level'}, {'company': 'SynergisticIT', 'job-title': 'Entry Level Software Developer - Remote', 'level': 'Entry level'}, {'company': 'SynergisticIT', 'job-title': 'Remote Software Developer (Junior)', 'level': 'Entry level'}, {'company': 'SynergisticIT', 'job-title': 'Junior Level Software Engineer (REMOTE)', 'level': 'Entry level'}, {'company': 'SynergisticIT', 'job-title': 'Junior Machine Learning Engineer', 'level': 'Entry level'}, {'company': 'SynergisticIT', 'job-title': 'Entry Level Software Engineer', 'level': 'Entry level'}, {'company': 'SynergisticIT', 'job-title': 'Entry Level Data Scientist', 'level': 'Entry level'}, {'company': 'SynergisticIT', 'job-title': 'JUNIOR SOFTWARE ENGINEER (REMOTE)', 'level': 'Entry level'}, {'company': 'SynergisticIT', 'job-title': 'Junior Coder/Developer/Programmer', 'level': 'Entry level'}, {'company': 'SynergisticIT', 'job-title': 'Junior/Entry Software Developer', 'level': 'Entry level'}, {'company': 'SynergisticIT', 'job-title': 'Entry Level Software Developer - Remote', 'level': 'Entry level'}, {'company': 'SynergisticIT', 'job-title': 'Remote Software Developer (Junior)', 'level': 'Entry level'}, {'company': 'SynergisticIT', 'job-title': 'Junior Level Software Engineer (REMOTE)', 'level': 'Entry level'}, {'company': 'SynergisticIT', 'job-title': 'Junior Machine Learning Engineer', 'level': 'Entry level'}, {'company': 'SynergisticIT', 'job-title': 'Entry Level Software Engineer', 'level': 'Entry level'}, {'company': 'SynergisticIT', 'job-title': 'Entry Level Data Scientist', 'level': 'Entry level'}, {'company': 'SynergisticIT', 'job-title': 'JUNIOR SOFTWARE ENGINEER (REMOTE)', 'level': 'Entry level'}, {'company': 'SynergisticIT', 'job-title': 'Junior Coder/Developer/Programmer', 'level': 'Entry level'}, {'company': 'SynergisticIT', 'job-title': 'Entry Level Full Stack Software Developer(remote)', 'level': 'Entry level'}, {'company': 'SynergisticIT', 'job-title': 'Entry Level Software Developer - Remote', 'level': 'Entry level'}, {'company': 'SynergisticIT', 'job-title': 'Remote Software Developer (Junior)', 'level': 'Entry level'}, {'company': 'SynergisticIT', 'job-title': 'Junior Level Software Engineer (REMOTE)', 'level': 'Entry level'}, {'company': 'SynergisticIT', 'job-title': 'Junior Machine Learning Engineer', 'level': 'Entry level'}, {'company': 'SynergisticIT', 'job-title': 'Entry Level Software Engineer', 'level': 'Entry level'}, {'company': 'SynergisticIT', 'job-title': 'Entry Level Data Scientist', 'level': 'Entry level'}, {'company': 'SynergisticIT', 'job-title': 'JUNIOR SOFTWARE ENGINEER (REMOTE)', 'level': 'Entry level'}, {'company': 'SynergisticIT', 'job-title': 'Junior Coder/Developer/Programmer', 'level': 'Entry level'}, {'company': 'SynergisticIT', 'job-title': 'Entry Level Full Stack Software Developer(remote)', 'level': 'Entry level'}, {'company': 'SynergisticIT', 'job-title': 'Backend Developer(Entry Level)', 'level': 'Entry level'}]\n"
     ]
    }
   ],
   "source": [
    "import requests\n",
    "from bs4 import BeautifulSoup\n",
    "import math\n",
    "import pandas as pd\n",
    "l=[]\n",
    "o={}\n",
    "k=[]\n",
    "headers={\"User-Agent\":\"Mozilla/5.0 (Windows NT 10.0; Win64; x64) AppleWebKit/537.36 (KHTML, like Gecko) Chrome/107.0.0.0 Safari/537.36\"}\n",
    "target_url='https://www.linkedin.com/jobs-guest/jobs/api/seeMoreJobPostings/search?keywords=Python%20%28Programming%20Language%29&location=Las%20Vegas%2C%20Nevada%2C%20United%20States&geoId=100293800&currentJobId=3415227738&start={}'\n",
    "for i in range(0,math.ceil(117/25)):\n",
    "\n",
    "    res = requests.get(target_url.format(i))\n",
    "    soup=BeautifulSoup(res.text,'html.parser')\n",
    "    alljobs_on_this_page=soup.find_all(\"li\")\n",
    "    print(len(alljobs_on_this_page))\n",
    "    for x in range(0,len(alljobs_on_this_page)):\n",
    "        jobid = alljobs_on_this_page[x].find(\"div\",{\"class\":\"base-card\"}).get('data-entity-urn').split(\":\")[3]\n",
    "        l.append(jobid)\n",
    "\n",
    "target_url='https://www.linkedin.com/jobs-guest/jobs/api/jobPosting/{}'\n",
    "for j in range(0,len(l)):\n",
    "\n",
    "    resp = requests.get(target_url.format(l[j]))\n",
    "    soup=BeautifulSoup(resp.text,'html.parser')\n",
    "\n",
    "    try:\n",
    "        o[\"company\"]=soup.find(\"div\",{\"class\":\"top-card-layout__card\"}).find(\"a\").find(\"img\").get('alt')\n",
    "    except:\n",
    "        o[\"company\"]=None\n",
    "\n",
    "    try:\n",
    "        o[\"job-title\"]=soup.find(\"div\",{\"class\":\"top-card-layout__entity-info\"}).find(\"a\").text.strip()\n",
    "    except:\n",
    "        o[\"job-title\"]=None\n",
    "\n",
    "    try:\n",
    "        o[\"level\"]=soup.find(\"ul\",{\"class\":\"description__job-criteria-list\"}).find(\"li\").text.replace(\"Seniority level\",\"\").strip()\n",
    "    except:\n",
    "        o[\"level\"]=None\n",
    "\n",
    "\n",
    "\n",
    "    k.append(o)\n",
    "    o={}\n",
    "\n",
    "df = pd.DataFrame(k)\n",
    "df.to_csv('linkedinjobs.csv', index=False, encoding='utf-8')\n",
    "print(k)"
   ]
  },
  {
   "cell_type": "code",
   "execution_count": null,
   "id": "412109c6",
   "metadata": {},
   "outputs": [],
   "source": []
  }
 ],
 "metadata": {
  "kernelspec": {
   "display_name": "Python [conda env:base] *",
   "language": "python",
   "name": "conda-base-py"
  },
  "language_info": {
   "codemirror_mode": {
    "name": "ipython",
    "version": 3
   },
   "file_extension": ".py",
   "mimetype": "text/x-python",
   "name": "python",
   "nbconvert_exporter": "python",
   "pygments_lexer": "ipython3",
   "version": "3.12.7"
  }
 },
 "nbformat": 4,
 "nbformat_minor": 5
}
