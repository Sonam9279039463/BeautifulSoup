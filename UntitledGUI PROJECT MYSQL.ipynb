{
 "cells": [
  {
   "cell_type": "markdown",
   "id": "efabc671-adf6-4477-8aad-61d0c661951e",
   "metadata": {},
   "source": [
    "# GUI PROJECT that connects to a MyQl database using Pytrhon and the thinker library"
   ]
  },
  {
   "cell_type": "code",
   "execution_count": 6,
   "id": "95832ed8-1e7f-4470-bc89-f31469033494",
   "metadata": {
    "scrolled": true
   },
   "outputs": [
    {
     "name": "stdout",
     "output_type": "stream",
     "text": [
      "Collecting mysql-connector-python\n",
      "  Downloading mysql_connector_python-9.3.0-cp312-cp312-win_amd64.whl.metadata (7.7 kB)\n",
      "Downloading mysql_connector_python-9.3.0-cp312-cp312-win_amd64.whl (16.4 MB)\n",
      "   ---------------------------------------- 0.0/16.4 MB ? eta -:--:--\n",
      "    --------------------------------------- 0.3/16.4 MB ? eta -:--:--\n",
      "   - -------------------------------------- 0.8/16.4 MB 1.8 MB/s eta 0:00:09\n",
      "   --- ------------------------------------ 1.3/16.4 MB 2.2 MB/s eta 0:00:07\n",
      "   ----- ---------------------------------- 2.1/16.4 MB 2.7 MB/s eta 0:00:06\n",
      "   ------ --------------------------------- 2.6/16.4 MB 2.5 MB/s eta 0:00:06\n",
      "   ------- -------------------------------- 3.1/16.4 MB 2.5 MB/s eta 0:00:06\n",
      "   -------- ------------------------------- 3.7/16.4 MB 2.5 MB/s eta 0:00:06\n",
      "   ---------- ----------------------------- 4.5/16.4 MB 2.7 MB/s eta 0:00:05\n",
      "   ------------ --------------------------- 5.2/16.4 MB 2.8 MB/s eta 0:00:04\n",
      "   -------------- ------------------------- 6.0/16.4 MB 3.0 MB/s eta 0:00:04\n",
      "   ----------------- ---------------------- 7.1/16.4 MB 3.2 MB/s eta 0:00:03\n",
      "   -------------------- ------------------- 8.4/16.4 MB 3.4 MB/s eta 0:00:03\n",
      "   ----------------------- ---------------- 9.7/16.4 MB 3.6 MB/s eta 0:00:02\n",
      "   -------------------------- ------------- 11.0/16.4 MB 3.9 MB/s eta 0:00:02\n",
      "   ------------------------------ --------- 12.6/16.4 MB 4.0 MB/s eta 0:00:01\n",
      "   --------------------------------- ------ 13.6/16.4 MB 4.1 MB/s eta 0:00:01\n",
      "   ---------------------------------- ----- 14.2/16.4 MB 4.1 MB/s eta 0:00:01\n",
      "   ---------------------------------------  16.0/16.4 MB 4.3 MB/s eta 0:00:01\n",
      "   ---------------------------------------- 16.4/16.4 MB 4.3 MB/s eta 0:00:00\n",
      "Installing collected packages: mysql-connector-python\n",
      "Successfully installed mysql-connector-python-9.3.0\n",
      "Note: you may need to restart the kernel to use updated packages.\n"
     ]
    }
   ],
   "source": [
    "pip install mysql-connector-python"
   ]
  },
  {
   "cell_type": "code",
   "execution_count": 30,
   "id": "ce73a961-d5c3-429a-b061-df4cd48be34f",
   "metadata": {},
   "outputs": [],
   "source": [
    "import mysql.connector\n",
    "from tkinter import *\n",
    "from tkinter import messagebox\n"
   ]
  },
  {
   "cell_type": "code",
   "execution_count": 12,
   "id": "b530d3c4-6c56-4aed-a41d-030a59b0a487",
   "metadata": {},
   "outputs": [],
   "source": [
    "import tkinter as tk\n",
    "from tkinter import ttk,messagebox\n",
    "import mysql.connector"
   ]
  },
  {
   "cell_type": "code",
   "execution_count": 18,
   "id": "2d589d78-27b8-4894-af47-a53c93e8c6f2",
   "metadata": {},
   "outputs": [],
   "source": [
    "import mysql.connector\n",
    "\n",
    "def connect_db():\n",
    "    return mysql.connector.connect(\n",
    "        host=\"localhost\",\n",
    "        user=\"root\",        # Fixed extra quote\n",
    "        password=\"12345\",\n",
    "        database=\"my_database\"\n",
    "    )\n",
    "\n",
    "\n"
   ]
  },
  {
   "cell_type": "code",
   "execution_count": 22,
   "id": "0f19ed6e-f8dd-428b-baf9-8986ea2ea9b5",
   "metadata": {},
   "outputs": [],
   "source": [
    "def add_user():\n",
    "    db = connect_db()\n",
    "    cursor = db.cursor()\n",
    "    try:\n",
    "        cursor.execute(\n",
    "            \"INSERT INTO users (name, email) VALUES (%s, %s)\",\n",
    "            (name_var.get(), email_var.get())  # Fixed casing and typo\n",
    "        )\n",
    "        db.commit()\n",
    "    except Exception as e:\n",
    "        print(\"Error adding user:\", e)\n",
    "    finally:\n",
    "        cursor.close()\n",
    "        db.close()\n",
    "        display_users()  # Fixed typo\n"
   ]
  },
  {
   "cell_type": "code",
   "execution_count": 24,
   "id": "d4686964-0c1a-44e4-98a5-d1cc2bfdb835",
   "metadata": {},
   "outputs": [],
   "source": [
    "def add_user():\n",
    "    name = name_var.get()\n",
    "    email = email_var.get()\n",
    "\n",
    "    if not name or not email:\n",
    "        messagebox.showwarning(\"Input Error\", \"Please fill in all fields.\")\n",
    "        return\n",
    "\n",
    "    try:\n",
    "        db = connect_db()\n",
    "        cursor = db.cursor()\n",
    "        cursor.execute(\"INSERT INTO users (name, email) VALUES (%s, %s)\", (name, email))\n",
    "        db.commit()\n",
    "        cursor.close()\n",
    "        db.close()\n",
    "        messagebox.showinfo(\"Success\", \"User added successfully.\")\n",
    "        name_var.set(\"\")\n",
    "        email_var.set(\"\")\n",
    "        display_users()\n",
    "    except Exception as e:\n",
    "        messagebox.showerror(\"Database Error\", str(e))"
   ]
  },
  {
   "cell_type": "code",
   "execution_count": 26,
   "id": "64b8b039-afcf-4a84-a2df-4fb98ff9a800",
   "metadata": {},
   "outputs": [],
   "source": [
    "# Display users in the listbox\n",
    "def display_users():\n",
    "    try:\n",
    "        db = connect_db()\n",
    "        cursor = db.cursor()\n",
    "        cursor.execute(\"SELECT name, email FROM users\")\n",
    "        rows = cursor.fetchall()\n",
    "        cursor.close()\n",
    "        db.close()\n",
    "\n",
    "        user_listbox.delete(0, END)\n",
    "        for row in rows:\n",
    "            user_listbox.insert(END, f\"{row[0]} - {row[1]}\")\n",
    "    except Exception as e:\n",
    "        messagebox.showerror(\"Error\", str(e))\n"
   ]
  },
  {
   "cell_type": "code",
   "execution_count": null,
   "id": "07293b39-978b-40bf-b924-8b54f795c64a",
   "metadata": {},
   "outputs": [],
   "source": [
    "# GUI Setup\n",
    "root = Tk()\n",
    "root.title(\"User Management\")\n",
    "root.geometry(\"400x400\")\n",
    "\n",
    "name_var = StringVar()\n",
    "email_var = StringVar()\n",
    "\n",
    "Label(root, text=\"Name\").pack(pady=5)\n",
    "Entry(root, textvariable=name_var).pack(pady=5)\n",
    "\n",
    "Label(root, text=\"Email\").pack(pady=5)\n",
    "Entry(root, textvariable=email_var).pack(pady=5)\n",
    "\n",
    "Button(root, text=\"Add User\", command=add_user).pack(pady=10)\n",
    "\n",
    "Label(root, text=\"Users List\").pack(pady=5)\n",
    "user_listbox = Listbox(root, width=50)\n",
    "user_listbox.pack(pady=10)\n",
    "\n",
    "display_users()\n",
    "\n",
    "root.mainloop()"
   ]
  },
  {
   "cell_type": "code",
   "execution_count": null,
   "id": "aca354a6-0a9d-4476-8b70-e88c6faaecb8",
   "metadata": {},
   "outputs": [],
   "source": []
  }
 ],
 "metadata": {
  "kernelspec": {
   "display_name": "Python [conda env:New Folder]",
   "language": "python",
   "name": "conda-env-New_Folder-py"
  },
  "language_info": {
   "codemirror_mode": {
    "name": "ipython",
    "version": 3
   },
   "file_extension": ".py",
   "mimetype": "text/x-python",
   "name": "python",
   "nbconvert_exporter": "python",
   "pygments_lexer": "ipython3",
   "version": "3.12.7"
  }
 },
 "nbformat": 4,
 "nbformat_minor": 5
}
